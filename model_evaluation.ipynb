{
 "cells": [
  {
   "cell_type": "code",
   "execution_count": 50,
   "metadata": {},
   "outputs": [],
   "source": [
    "import json\n",
    "import spacy\n",
    "from bs4 import BeautifulSoup\n",
    "nlp = spacy.load(\"output/model-best\")"
   ]
  },
  {
   "cell_type": "code",
   "execution_count": 51,
   "metadata": {},
   "outputs": [],
   "source": [
    "def strip_html_tags(text):\n",
    "    soup = BeautifulSoup(text, \"html.parser\")\n",
    "    stripped_text = soup.get_text()\n",
    "    return stripped_text"
   ]
  },
  {
   "cell_type": "code",
   "execution_count": 52,
   "metadata": {},
   "outputs": [
    {
     "name": "stdout",
     "output_type": "stream",
     "text": [
      "\n",
      "100 U.S. 158 (____)\n",
      "Dow\n",
      "v.\n",
      "JOHNSON.\n",
      "Supreme Court of United States.\n",
      "\n",
      "The case was argued by The Attorney-General and Mr. E.B. Smith, Assistant Attorney-General, for the plaintiff in error, and by Mr. Thomas J. Durant for the defendant in error.\n",
      "MR. JUSTICE FIELD delivered the opinion of the court.\n",
      "The defendant in the court below, the plaintiff in error here, Neal Dow, was a brigadier-general in the army of the United States during the late civil war, and in 1862 and 1863 was *159 stationed in \n"
     ]
    }
   ],
   "source": [
    "with open('./texts_for_testing/1880_90030.json', encoding=\"utf-8\") as f:\n",
    "    test_text = json.load(f)\n",
    "opinion_of_text = test_text['html_lawbox']\n",
    "cleaned_text_opinion = strip_html_tags(opinion_of_text)\n",
    "print(cleaned_text_opinion[:500])"
   ]
  },
  {
   "cell_type": "code",
   "execution_count": 53,
   "metadata": {},
   "outputs": [
    {
     "data": {
      "text/plain": [
       "['1764_84587',\n",
       " '1783_84599',\n",
       " '1944_103915',\n",
       " '1880_90030',\n",
       " '1850_86508',\n",
       " '1764_84586',\n",
       " '1985_111301',\n",
       " '2022_opinion_2',\n",
       " '1865_87621',\n",
       " '1902_95542',\n",
       " '1764_2381788',\n",
       " '1920_99495',\n",
       " '1898_94785',\n",
       " '1783_84600',\n",
       " '1963_106601',\n",
       " '2022_opinion_1',\n",
       " '1804_84713']"
      ]
     },
     "execution_count": 53,
     "metadata": {},
     "output_type": "execute_result"
    }
   ],
   "source": [
    "from pathlib import Path\n",
    "folder_location = './texts_for_testing/'\n",
    "paths = list(Path(folder_location).rglob('*.json'))\n",
    "filenames = [k.stem for k in paths]\n",
    "filenames"
   ]
  },
  {
   "cell_type": "code",
   "execution_count": 54,
   "metadata": {},
   "outputs": [],
   "source": [
    "names_and_scores = dict()\n",
    "\n",
    "for file in paths:\n",
    "    with open(file, encoding=\"utf-8\") as f:\n",
    "        data = json.load(f)\n",
    "        stem = file.stem\n",
    "        #stem = stem.split('_')[0]\n",
    "    if data['plain_text'] != \"\":\n",
    "        spacy_doc = nlp(data['plain_text'])\n",
    "        names_and_scores[stem] = spacy_doc.cats\n",
    "    elif data['html_with_citations'] != \"\":\n",
    "        cleaned_text_opinion = strip_html_tags(data['html_with_citations'])\n",
    "        spacy_doc = nlp(cleaned_text_opinion)\n",
    "        names_and_scores[stem] = spacy_doc.cats\n",
    "    elif data['html_lawbox'] != \"\":\n",
    "        cleaned_text_opinion = strip_html_tags(data['html_lawbox'])\n",
    "        spacy_doc = nlp(cleaned_text_opinion)\n",
    "        names_and_scores[stem] = spacy_doc.cats"
   ]
  },
  {
   "cell_type": "code",
   "execution_count": 55,
   "metadata": {},
   "outputs": [
    {
     "name": "stdout",
     "output_type": "stream",
     "text": [
      "17\n"
     ]
    }
   ],
   "source": [
    "print(len(names_and_scores))"
   ]
  },
  {
   "cell_type": "code",
   "execution_count": 56,
   "metadata": {},
   "outputs": [
    {
     "name": "stdout",
     "output_type": "stream",
     "text": [
      "{'1764_84587': {'1700': 1.0, '1800': 2.8113275263308424e-08, '1900': 1.0198507593983663e-09, '2000': 1.780704965819123e-26}, '1783_84599': {'1700': 0.9365735054016113, '1800': 0.0031821851152926683, '1900': 0.05074755847454071, '2000': 0.009496694430708885}, '1944_103915': {'1700': 0.0, '1800': 0.0, '1900': 1.0, '2000': 0.0}, '1880_90030': {'1700': 0.0, '1800': 1.0, '1900': 0.0, '2000': 0.0}, '1850_86508': {'1700': 9.226048644040673e-37, '1800': 1.0, '1900': 3.8507681799645973e-41, '2000': 0.0}, '1764_84586': {'1700': 0.9997567534446716, '1800': 0.00011151911166962236, '1900': 6.334606587188318e-05, '2000': 6.829507037764415e-05}, '1985_111301': {'1700': 0.0, '1800': 0.0, '1900': 1.0, '2000': 0.0}, '2022_opinion_2': {'1700': 0.0, '1800': 0.0, '1900': 1.0, '2000': 0.0}, '1865_87621': {'1700': 3.907836543248777e-08, '1800': 0.9997335076332092, '1900': 0.000266456016106531, '2000': 4.145987221612772e-18}, '1902_95542': {'1700': 2.4049142682345812e-26, '1800': 2.078580655506812e-05, '1900': 0.9999792575836182, '2000': 0.0}, '1764_2381788': {'1700': 0.6772348880767822, '1800': 0.06563515961170197, '1900': 0.09293249994516373, '2000': 0.1641974002122879}, '1920_99495': {'1700': 0.0, '1800': 0.0, '1900': 1.0, '2000': 0.0}, '1898_94785': {'1700': 5.216896633225946e-27, '1800': 2.3763313539149067e-09, '1900': 1.0, '2000': 1.0008909658082047e-34}, '1783_84600': {'1700': 1.0, '1800': 2.7806250635364904e-09, '1900': 3.077909455084793e-11, '2000': 1.6084702373383484e-17}, '1963_106601': {'1700': 0.0, '1800': 0.0, '1900': 1.0, '2000': 0.0}, '2022_opinion_1': {'1700': 0.0, '1800': 0.0, '1900': 1.0, '2000': 0.0}, '1804_84713': {'1700': 1.0, '1800': 1.7863743365816234e-24, '1900': 0.0, '2000': 0.0}}\n"
     ]
    },
    {
     "data": {
      "text/plain": [
       "0.7647058823529411"
      ]
     },
     "execution_count": 56,
     "metadata": {},
     "output_type": "execute_result"
    }
   ],
   "source": [
    "print(names_and_scores)\n",
    "\n",
    "#13 out of 17 classified correctly ...:\n",
    "13/17\n"
   ]
  },
  {
   "cell_type": "code",
   "execution_count": 57,
   "metadata": {},
   "outputs": [
    {
     "data": {
      "text/html": [
       "<div>\n",
       "<style scoped>\n",
       "    .dataframe tbody tr th:only-of-type {\n",
       "        vertical-align: middle;\n",
       "    }\n",
       "\n",
       "    .dataframe tbody tr th {\n",
       "        vertical-align: top;\n",
       "    }\n",
       "\n",
       "    .dataframe thead th {\n",
       "        text-align: right;\n",
       "    }\n",
       "</style>\n",
       "<table border=\"1\" class=\"dataframe\">\n",
       "  <thead>\n",
       "    <tr style=\"text-align: right;\">\n",
       "      <th></th>\n",
       "      <th>1700</th>\n",
       "      <th>1800</th>\n",
       "      <th>1900</th>\n",
       "      <th>2000</th>\n",
       "    </tr>\n",
       "  </thead>\n",
       "  <tbody>\n",
       "    <tr>\n",
       "      <th>1764_84587</th>\n",
       "      <td>1.00000</td>\n",
       "      <td>0.00000</td>\n",
       "      <td>0.00000</td>\n",
       "      <td>0.00000</td>\n",
       "    </tr>\n",
       "    <tr>\n",
       "      <th>1783_84599</th>\n",
       "      <td>0.93657</td>\n",
       "      <td>0.00318</td>\n",
       "      <td>0.05075</td>\n",
       "      <td>0.00950</td>\n",
       "    </tr>\n",
       "    <tr>\n",
       "      <th>1944_103915</th>\n",
       "      <td>0.00000</td>\n",
       "      <td>0.00000</td>\n",
       "      <td>1.00000</td>\n",
       "      <td>0.00000</td>\n",
       "    </tr>\n",
       "    <tr>\n",
       "      <th>1880_90030</th>\n",
       "      <td>0.00000</td>\n",
       "      <td>1.00000</td>\n",
       "      <td>0.00000</td>\n",
       "      <td>0.00000</td>\n",
       "    </tr>\n",
       "    <tr>\n",
       "      <th>1850_86508</th>\n",
       "      <td>0.00000</td>\n",
       "      <td>1.00000</td>\n",
       "      <td>0.00000</td>\n",
       "      <td>0.00000</td>\n",
       "    </tr>\n",
       "  </tbody>\n",
       "</table>\n",
       "</div>"
      ],
      "text/plain": [
       "               1700    1800    1900    2000\n",
       "1764_84587  1.00000 0.00000 0.00000 0.00000\n",
       "1783_84599  0.93657 0.00318 0.05075 0.00950\n",
       "1944_103915 0.00000 0.00000 1.00000 0.00000\n",
       "1880_90030  0.00000 1.00000 0.00000 0.00000\n",
       "1850_86508  0.00000 1.00000 0.00000 0.00000"
      ]
     },
     "execution_count": 57,
     "metadata": {},
     "output_type": "execute_result"
    }
   ],
   "source": [
    "import pandas as pd\n",
    "\n",
    "df = pd.DataFrame.from_dict(names_and_scores).T\n",
    "df.head()"
   ]
  },
  {
   "cell_type": "code",
   "execution_count": 58,
   "metadata": {},
   "outputs": [],
   "source": [
    "df['highest_score'] = df.idxmax(axis=1)"
   ]
  },
  {
   "cell_type": "code",
   "execution_count": 59,
   "metadata": {},
   "outputs": [
    {
     "data": {
      "text/html": [
       "<div>\n",
       "<style scoped>\n",
       "    .dataframe tbody tr th:only-of-type {\n",
       "        vertical-align: middle;\n",
       "    }\n",
       "\n",
       "    .dataframe tbody tr th {\n",
       "        vertical-align: top;\n",
       "    }\n",
       "\n",
       "    .dataframe thead th {\n",
       "        text-align: right;\n",
       "    }\n",
       "</style>\n",
       "<table border=\"1\" class=\"dataframe\">\n",
       "  <thead>\n",
       "    <tr style=\"text-align: right;\">\n",
       "      <th></th>\n",
       "      <th>1700</th>\n",
       "      <th>1800</th>\n",
       "      <th>1900</th>\n",
       "      <th>2000</th>\n",
       "      <th>highest_score</th>\n",
       "    </tr>\n",
       "  </thead>\n",
       "  <tbody>\n",
       "    <tr>\n",
       "      <th>1764_84587</th>\n",
       "      <td>1.00000</td>\n",
       "      <td>0.00000</td>\n",
       "      <td>0.00000</td>\n",
       "      <td>0.00000</td>\n",
       "      <td>1700</td>\n",
       "    </tr>\n",
       "    <tr>\n",
       "      <th>1783_84599</th>\n",
       "      <td>0.93657</td>\n",
       "      <td>0.00318</td>\n",
       "      <td>0.05075</td>\n",
       "      <td>0.00950</td>\n",
       "      <td>1700</td>\n",
       "    </tr>\n",
       "    <tr>\n",
       "      <th>1944_103915</th>\n",
       "      <td>0.00000</td>\n",
       "      <td>0.00000</td>\n",
       "      <td>1.00000</td>\n",
       "      <td>0.00000</td>\n",
       "      <td>1900</td>\n",
       "    </tr>\n",
       "    <tr>\n",
       "      <th>1880_90030</th>\n",
       "      <td>0.00000</td>\n",
       "      <td>1.00000</td>\n",
       "      <td>0.00000</td>\n",
       "      <td>0.00000</td>\n",
       "      <td>1800</td>\n",
       "    </tr>\n",
       "    <tr>\n",
       "      <th>1850_86508</th>\n",
       "      <td>0.00000</td>\n",
       "      <td>1.00000</td>\n",
       "      <td>0.00000</td>\n",
       "      <td>0.00000</td>\n",
       "      <td>1800</td>\n",
       "    </tr>\n",
       "    <tr>\n",
       "      <th>1764_84586</th>\n",
       "      <td>0.99976</td>\n",
       "      <td>0.00011</td>\n",
       "      <td>0.00006</td>\n",
       "      <td>0.00007</td>\n",
       "      <td>1700</td>\n",
       "    </tr>\n",
       "    <tr>\n",
       "      <th>1985_111301</th>\n",
       "      <td>0.00000</td>\n",
       "      <td>0.00000</td>\n",
       "      <td>1.00000</td>\n",
       "      <td>0.00000</td>\n",
       "      <td>1900</td>\n",
       "    </tr>\n",
       "    <tr>\n",
       "      <th>2022_opinion_2</th>\n",
       "      <td>0.00000</td>\n",
       "      <td>0.00000</td>\n",
       "      <td>1.00000</td>\n",
       "      <td>0.00000</td>\n",
       "      <td>1900</td>\n",
       "    </tr>\n",
       "    <tr>\n",
       "      <th>1865_87621</th>\n",
       "      <td>0.00000</td>\n",
       "      <td>0.99973</td>\n",
       "      <td>0.00027</td>\n",
       "      <td>0.00000</td>\n",
       "      <td>1800</td>\n",
       "    </tr>\n",
       "    <tr>\n",
       "      <th>1902_95542</th>\n",
       "      <td>0.00000</td>\n",
       "      <td>0.00002</td>\n",
       "      <td>0.99998</td>\n",
       "      <td>0.00000</td>\n",
       "      <td>1900</td>\n",
       "    </tr>\n",
       "    <tr>\n",
       "      <th>1764_2381788</th>\n",
       "      <td>0.67723</td>\n",
       "      <td>0.06564</td>\n",
       "      <td>0.09293</td>\n",
       "      <td>0.16420</td>\n",
       "      <td>1700</td>\n",
       "    </tr>\n",
       "    <tr>\n",
       "      <th>1920_99495</th>\n",
       "      <td>0.00000</td>\n",
       "      <td>0.00000</td>\n",
       "      <td>1.00000</td>\n",
       "      <td>0.00000</td>\n",
       "      <td>1900</td>\n",
       "    </tr>\n",
       "    <tr>\n",
       "      <th>1898_94785</th>\n",
       "      <td>0.00000</td>\n",
       "      <td>0.00000</td>\n",
       "      <td>1.00000</td>\n",
       "      <td>0.00000</td>\n",
       "      <td>1900</td>\n",
       "    </tr>\n",
       "    <tr>\n",
       "      <th>1783_84600</th>\n",
       "      <td>1.00000</td>\n",
       "      <td>0.00000</td>\n",
       "      <td>0.00000</td>\n",
       "      <td>0.00000</td>\n",
       "      <td>1700</td>\n",
       "    </tr>\n",
       "    <tr>\n",
       "      <th>1963_106601</th>\n",
       "      <td>0.00000</td>\n",
       "      <td>0.00000</td>\n",
       "      <td>1.00000</td>\n",
       "      <td>0.00000</td>\n",
       "      <td>1900</td>\n",
       "    </tr>\n",
       "    <tr>\n",
       "      <th>2022_opinion_1</th>\n",
       "      <td>0.00000</td>\n",
       "      <td>0.00000</td>\n",
       "      <td>1.00000</td>\n",
       "      <td>0.00000</td>\n",
       "      <td>1900</td>\n",
       "    </tr>\n",
       "    <tr>\n",
       "      <th>1804_84713</th>\n",
       "      <td>1.00000</td>\n",
       "      <td>0.00000</td>\n",
       "      <td>0.00000</td>\n",
       "      <td>0.00000</td>\n",
       "      <td>1700</td>\n",
       "    </tr>\n",
       "  </tbody>\n",
       "</table>\n",
       "</div>"
      ],
      "text/plain": [
       "                  1700    1800    1900    2000 highest_score\n",
       "1764_84587     1.00000 0.00000 0.00000 0.00000          1700\n",
       "1783_84599     0.93657 0.00318 0.05075 0.00950          1700\n",
       "1944_103915    0.00000 0.00000 1.00000 0.00000          1900\n",
       "1880_90030     0.00000 1.00000 0.00000 0.00000          1800\n",
       "1850_86508     0.00000 1.00000 0.00000 0.00000          1800\n",
       "1764_84586     0.99976 0.00011 0.00006 0.00007          1700\n",
       "1985_111301    0.00000 0.00000 1.00000 0.00000          1900\n",
       "2022_opinion_2 0.00000 0.00000 1.00000 0.00000          1900\n",
       "1865_87621     0.00000 0.99973 0.00027 0.00000          1800\n",
       "1902_95542     0.00000 0.00002 0.99998 0.00000          1900\n",
       "1764_2381788   0.67723 0.06564 0.09293 0.16420          1700\n",
       "1920_99495     0.00000 0.00000 1.00000 0.00000          1900\n",
       "1898_94785     0.00000 0.00000 1.00000 0.00000          1900\n",
       "1783_84600     1.00000 0.00000 0.00000 0.00000          1700\n",
       "1963_106601    0.00000 0.00000 1.00000 0.00000          1900\n",
       "2022_opinion_1 0.00000 0.00000 1.00000 0.00000          1900\n",
       "1804_84713     1.00000 0.00000 0.00000 0.00000          1700"
      ]
     },
     "execution_count": 59,
     "metadata": {},
     "output_type": "execute_result"
    }
   ],
   "source": [
    "df"
   ]
  },
  {
   "cell_type": "code",
   "execution_count": 60,
   "metadata": {},
   "outputs": [],
   "source": [
    "import dataframe_image as dfi\n",
    "pd.set_option('display.float_format', lambda x: '%.5f' % x)\n",
    "\n",
    "#dfi.export(df, 'test_table_png_file.png')"
   ]
  }
 ],
 "metadata": {
  "kernelspec": {
   "display_name": "Python 3.9.12 ('base')",
   "language": "python",
   "name": "python3"
  },
  "language_info": {
   "codemirror_mode": {
    "name": "ipython",
    "version": 3
   },
   "file_extension": ".py",
   "mimetype": "text/x-python",
   "name": "python",
   "nbconvert_exporter": "python",
   "pygments_lexer": "ipython3",
   "version": "3.9.12"
  },
  "orig_nbformat": 4,
  "vscode": {
   "interpreter": {
    "hash": "19e56c70b3071a7c9e5271d6c05d63446be4cb37f733ae995dda36f1f67e797e"
   }
  }
 },
 "nbformat": 4,
 "nbformat_minor": 2
}
