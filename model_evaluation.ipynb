{
 "cells": [
  {
   "cell_type": "code",
   "execution_count": 1,
   "metadata": {},
   "outputs": [
    {
     "ename": "ModuleNotFoundError",
     "evalue": "No module named 'bs4'",
     "output_type": "error",
     "traceback": [
      "\u001b[0;31m---------------------------------------------------------------------------\u001b[0m",
      "\u001b[0;31mModuleNotFoundError\u001b[0m                       Traceback (most recent call last)",
      "\u001b[1;32m/Users/spicy.kev/Documents/github/spacy_text_cat/model_evaluation.ipynb Cell 1\u001b[0m in \u001b[0;36m<cell line: 3>\u001b[0;34m()\u001b[0m\n\u001b[1;32m      <a href='vscode-notebook-cell:/Users/spicy.kev/Documents/github/spacy_text_cat/model_evaluation.ipynb#W0sZmlsZQ%3D%3D?line=0'>1</a>\u001b[0m \u001b[39mimport\u001b[39;00m \u001b[39mjson\u001b[39;00m\n\u001b[1;32m      <a href='vscode-notebook-cell:/Users/spicy.kev/Documents/github/spacy_text_cat/model_evaluation.ipynb#W0sZmlsZQ%3D%3D?line=1'>2</a>\u001b[0m \u001b[39mimport\u001b[39;00m \u001b[39mspacy\u001b[39;00m\n\u001b[0;32m----> <a href='vscode-notebook-cell:/Users/spicy.kev/Documents/github/spacy_text_cat/model_evaluation.ipynb#W0sZmlsZQ%3D%3D?line=2'>3</a>\u001b[0m \u001b[39mfrom\u001b[39;00m \u001b[39mbs4\u001b[39;00m \u001b[39mimport\u001b[39;00m BeautifulSoup\n\u001b[1;32m      <a href='vscode-notebook-cell:/Users/spicy.kev/Documents/github/spacy_text_cat/model_evaluation.ipynb#W0sZmlsZQ%3D%3D?line=3'>4</a>\u001b[0m nlp \u001b[39m=\u001b[39m spacy\u001b[39m.\u001b[39mload(\u001b[39m\"\u001b[39m\u001b[39moutput/model-best\u001b[39m\u001b[39m\"\u001b[39m)\n",
      "\u001b[0;31mModuleNotFoundError\u001b[0m: No module named 'bs4'"
     ]
    }
   ],
   "source": [
    "import json\n",
    "import spacy\n",
    "from bs4 import BeautifulSoup\n",
    "nlp = spacy.load(\"output/model-best\")"
   ]
  },
  {
   "cell_type": "code",
   "execution_count": 2,
   "metadata": {},
   "outputs": [],
   "source": [
    "def strip_html_tags(text):\n",
    "    soup = BeautifulSoup(text, \"html.parser\")\n",
    "    stripped_text = soup.get_text()\n",
    "    return stripped_text"
   ]
  },
  {
   "cell_type": "code",
   "execution_count": 3,
   "metadata": {},
   "outputs": [
    {
     "name": "stdout",
     "output_type": "stream",
     "text": [
      "\n",
      "100 U.S. 158 (____)\n",
      "Dow\n",
      "v.\n",
      "JOHNSON.\n",
      "Supreme Court of United States.\n",
      "\n",
      "The case was argued by The Attorney-General and Mr. E.B. Smith, Assistant Attorney-General, for the plaintiff in error, and by Mr. Thomas J. Durant for the defendant in error.\n",
      "MR. JUSTICE FIELD delivered the opinion of the court.\n",
      "The defendant in the court below, the plaintiff in error here, Neal Dow, was a brigadier-general in the army of the United States during the late civil war, and in 1862 and 1863 was *159 stationed in \n"
     ]
    }
   ],
   "source": [
    "with open('./texts_for_testing/1880_90030.json', encoding=\"utf-8\") as f:\n",
    "    test_text = json.load(f)\n",
    "opinion_of_text = test_text['html_lawbox']\n",
    "cleaned_text_opinion = strip_html_tags(opinion_of_text)\n",
    "print(cleaned_text_opinion[:500])"
   ]
  },
  {
   "cell_type": "code",
   "execution_count": 4,
   "metadata": {},
   "outputs": [],
   "source": [
    "spacy_doc = nlp(cleaned_text_opinion)"
   ]
  },
  {
   "cell_type": "code",
   "execution_count": 5,
   "metadata": {},
   "outputs": [
    {
     "data": {
      "text/plain": [
       "{'1700': 0.0, '1800': 1.0, '1900': 0.0, '2000': 0.0}"
      ]
     },
     "execution_count": 5,
     "metadata": {},
     "output_type": "execute_result"
    }
   ],
   "source": [
    "spacy_doc.cats"
   ]
  },
  {
   "cell_type": "code",
   "execution_count": 9,
   "metadata": {},
   "outputs": [
    {
     "name": "stdout",
     "output_type": "stream",
     "text": [
      "{'1700': 2.396220373995437e-43, '1800': 2.923387118178614e-29, '1900': 1.0, '2000': 7.380723387276827e-21}\n"
     ]
    },
    {
     "data": {
      "text/plain": [
       "2.396220373995437e-43"
      ]
     },
     "execution_count": 9,
     "metadata": {},
     "output_type": "execute_result"
    }
   ],
   "source": [
    "with open('./texts_for_testing/2022_opinion_1.json', encoding=\"utf-8\") as f:\n",
    "    test_text = json.load(f)\n",
    "opinion_of_text_2 = test_text['plain_text']\n",
    "spacy_doc_1 = nlp(opinion_of_text_2)\n",
    "print(spacy_doc_1.cats)\n",
    "spacy_doc_1.cats['1700']"
   ]
  },
  {
   "cell_type": "code",
   "execution_count": 11,
   "metadata": {},
   "outputs": [
    {
     "name": "stdout",
     "output_type": "stream",
     "text": [
      "{'1700': 3.133987236392244e-10, '1800': 1.0, '1900': 0.0, '2000': 0.0}\n"
     ]
    },
    {
     "data": {
      "text/plain": [
       "1.0"
      ]
     },
     "execution_count": 11,
     "metadata": {},
     "output_type": "execute_result"
    }
   ],
   "source": [
    "with open('./texts_for_testing/1804_84713.json', encoding=\"utf-8\") as f:\n",
    "    test_text = json.load(f)\n",
    "opinion_of_text_3 = test_text['html_with_citations']\n",
    "cleaned_text_opinion = strip_html_tags(opinion_of_text_3)\n",
    "spacy_doc_2 = nlp(cleaned_text_opinion)\n",
    "print(spacy_doc_2.cats)\n",
    "spacy_doc_2.cats['1800']"
   ]
  },
  {
   "cell_type": "code",
   "execution_count": 12,
   "metadata": {},
   "outputs": [
    {
     "data": {
      "text/plain": [
       "{'1700': 0.0, '1800': 0.0, '1900': 1.0, '2000': 0.0}"
      ]
     },
     "execution_count": 12,
     "metadata": {},
     "output_type": "execute_result"
    }
   ],
   "source": [
    "with open('./texts_for_testing/1985_111301.json', encoding=\"utf-8\") as f:\n",
    "    test_text = json.load(f)\n",
    "opinion_of_text_4 = test_text['html_lawbox']\n",
    "cleaned_text_opinion = strip_html_tags(opinion_of_text_4)\n",
    "spacy_doc_3 = nlp(cleaned_text_opinion)\n",
    "spacy_doc_3.cats"
   ]
  },
  {
   "cell_type": "code",
   "execution_count": 18,
   "metadata": {},
   "outputs": [
    {
     "data": {
      "text/plain": [
       "['1764_2381788',\n",
       " '1764_84586',\n",
       " '1764_84587',\n",
       " '1783_84599',\n",
       " '1783_84600',\n",
       " '1804_84713',\n",
       " '1850_86508',\n",
       " '1865_87621',\n",
       " '1880_90030',\n",
       " '1898_94785',\n",
       " '1902_95542',\n",
       " '1920_99495',\n",
       " '1944_103915',\n",
       " '1963_106601',\n",
       " '1985_111301',\n",
       " '2022_opinion_1',\n",
       " '2022_opinion_2']"
      ]
     },
     "execution_count": 18,
     "metadata": {},
     "output_type": "execute_result"
    }
   ],
   "source": [
    "from pathlib import Path\n",
    "folder_location = './texts_for_testing/'\n",
    "paths = list(Path(folder_location).rglob('*.json'))\n",
    "filenames = [k.stem for k in paths]\n",
    "filenames"
   ]
  },
  {
   "cell_type": "code",
   "execution_count": 19,
   "metadata": {},
   "outputs": [
    {
     "data": {
      "text/plain": [
       "{'1700': 0.9460902810096741,\n",
       " '1800': 0.0035104146227240562,\n",
       " '1900': 0.021581759676337242,\n",
       " '2000': 0.028817567974328995}"
      ]
     },
     "execution_count": 19,
     "metadata": {},
     "output_type": "execute_result"
    }
   ],
   "source": [
    "with open('./texts_for_testing/1764_84586.json', encoding=\"utf-8\") as f:\n",
    "    test_text = json.load(f)\n",
    "opinion_of_text = test_text['html_with_citations']\n",
    "cleaned_text_opinion = strip_html_tags(opinion_of_text)\n",
    "spacy_doc_3 = nlp(cleaned_text_opinion)\n",
    "spacy_doc_3.cats"
   ]
  },
  {
   "cell_type": "code",
   "execution_count": 20,
   "metadata": {},
   "outputs": [
    {
     "data": {
      "text/plain": [
       "{'1700': 1.0,\n",
       " '1800': 7.777257948760052e-09,\n",
       " '1900': 2.8018092301806703e-16,\n",
       " '2000': 9.425196398636101e-20}"
      ]
     },
     "execution_count": 20,
     "metadata": {},
     "output_type": "execute_result"
    }
   ],
   "source": [
    "with open('./texts_for_testing/1764_84587.json', encoding=\"utf-8\") as f:\n",
    "    test_text = json.load(f)\n",
    "opinion_of_text = test_text['html_with_citations']\n",
    "cleaned_text_opinion = strip_html_tags(opinion_of_text)\n",
    "spacy_doc_3 = nlp(cleaned_text_opinion)\n",
    "spacy_doc_3.cats"
   ]
  },
  {
   "cell_type": "code",
   "execution_count": 21,
   "metadata": {},
   "outputs": [
    {
     "data": {
      "text/plain": [
       "{'1700': 0.0, '1800': 0.0, '1900': 0.0, '2000': 0.0}"
      ]
     },
     "execution_count": 21,
     "metadata": {},
     "output_type": "execute_result"
    }
   ],
   "source": [
    "with open('./texts_for_testing/1764_2381788.json', encoding=\"utf-8\") as f:\n",
    "    test_text = json.load(f)\n",
    "opinion_of_text = test_text['html_with_citations']\n",
    "cleaned_text_opinion = strip_html_tags(opinion_of_text)\n",
    "spacy_doc_3 = nlp(cleaned_text_opinion)\n",
    "spacy_doc_3.cats"
   ]
  },
  {
   "cell_type": "code",
   "execution_count": null,
   "metadata": {},
   "outputs": [],
   "source": [
    "scores_1700 = []\n",
    "scores_1800 = []\n",
    "scores_1900 = []\n",
    "scores_2000 = []\n",
    "\n",
    "for file in filenames:\n",
    "    with open(filename, encoding=\"utf-8\") as f:\n",
    "        data = json.load(f)\n",
    "    \n",
    "opinion_of_text = test_text['html_with_citations']\n",
    "cleaned_text_opinion = strip_html_tags(opinion_of_text)\n",
    "spacy_doc_3 = nlp(cleaned_text_opinion)\n",
    "spacy_doc_3.cats"
   ]
  }
 ],
 "metadata": {
  "kernelspec": {
   "display_name": "Python 3.10.5 64-bit",
   "language": "python",
   "name": "python3"
  },
  "language_info": {
   "codemirror_mode": {
    "name": "ipython",
    "version": 3
   },
   "file_extension": ".py",
   "mimetype": "text/x-python",
   "name": "python",
   "nbconvert_exporter": "python",
   "pygments_lexer": "ipython3",
   "version": "3.10.5"
  },
  "orig_nbformat": 4,
  "vscode": {
   "interpreter": {
    "hash": "aee8b7b246df8f9039afb4144a1f6fd8d2ca17a180786b69acc140d282b71a49"
   }
  }
 },
 "nbformat": 4,
 "nbformat_minor": 2
}
