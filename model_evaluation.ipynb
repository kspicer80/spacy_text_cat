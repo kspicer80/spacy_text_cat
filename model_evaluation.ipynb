{
 "cells": [
  {
   "cell_type": "code",
   "execution_count": 9,
   "metadata": {},
   "outputs": [
    {
     "name": "stderr",
     "output_type": "stream",
     "text": [
      "c:\\Users\\KSpicer\\Anaconda3\\envs\\victorian_authorship_env\\lib\\site-packages\\spacy\\util.py:865: UserWarning: [W095] Model 'en_pipeline' (0.0.0) was trained with spaCy v3.4 and may not be 100% compatible with the current version (3.4.0). If you see errors or degraded performance, download a newer compatible model or retrain your custom model with the current spaCy version. For more details and available updates, run: python -m spacy validate\n",
      "  warnings.warn(warn_msg)\n"
     ]
    }
   ],
   "source": [
    "import json\n",
    "import spacy\n",
    "from bs4 import BeautifulSoup\n",
    "nlp = spacy.load(\"output/model-best\")"
   ]
  },
  {
   "cell_type": "code",
   "execution_count": 10,
   "metadata": {},
   "outputs": [],
   "source": [
    "def strip_html_tags(text):\n",
    "    soup = BeautifulSoup(text, \"html.parser\")\n",
    "    stripped_text = soup.get_text()\n",
    "    return stripped_text"
   ]
  },
  {
   "cell_type": "code",
   "execution_count": 12,
   "metadata": {},
   "outputs": [
    {
     "name": "stdout",
     "output_type": "stream",
     "text": [
      "\n",
      "100 U.S. 158 (____)\n",
      "Dow\n",
      "v.\n",
      "JOHNSON.\n",
      "Supreme Court of United States.\n",
      "\n",
      "The case was argued by The Attorney-General and Mr. E.B. Smith, Assistant Attorney-General, for the plaintiff in error, and by Mr. Thomas J. Durant for the defendant in error.\n",
      "MR. JUSTICE FIELD delivered the opinion of the court.\n",
      "The defendant in the court below, the plaintiff in error here, Neal Dow, was a brigadier-general in the army of the United States during the late civil war, and in 1862 and 1863 was *159 stationed in \n"
     ]
    }
   ],
   "source": [
    "with open('./texts_for_testing/1880_90030.json', encoding=\"utf-8\") as f:\n",
    "    test_text = json.load(f)\n",
    "opinion_of_text = test_text['html_lawbox']\n",
    "cleaned_text_opinion = strip_html_tags(opinion_of_text)\n",
    "print(cleaned_text_opinion[:500])"
   ]
  },
  {
   "cell_type": "code",
   "execution_count": 13,
   "metadata": {},
   "outputs": [],
   "source": [
    "spacy_doc = nlp(cleaned_text_opinion)"
   ]
  },
  {
   "cell_type": "code",
   "execution_count": 14,
   "metadata": {},
   "outputs": [
    {
     "data": {
      "text/plain": [
       "{'1700': 0.0, '1800': 1.0, '1900': 0.0, '2000': 0.0}"
      ]
     },
     "execution_count": 14,
     "metadata": {},
     "output_type": "execute_result"
    }
   ],
   "source": [
    "spacy_doc.cats"
   ]
  },
  {
   "cell_type": "code",
   "execution_count": null,
   "metadata": {},
   "outputs": [],
   "source": []
  }
 ],
 "metadata": {
  "kernelspec": {
   "display_name": "Python 3.9.12 ('victorian_authorship_env')",
   "language": "python",
   "name": "python3"
  },
  "language_info": {
   "codemirror_mode": {
    "name": "ipython",
    "version": 3
   },
   "file_extension": ".py",
   "mimetype": "text/x-python",
   "name": "python",
   "nbconvert_exporter": "python",
   "pygments_lexer": "ipython3",
   "version": "3.9.12"
  },
  "orig_nbformat": 4,
  "vscode": {
   "interpreter": {
    "hash": "ef5d861bb1be136369da2a14d97f47e042662aed23f513481be9d838db3326bb"
   }
  }
 },
 "nbformat": 4,
 "nbformat_minor": 2
}
