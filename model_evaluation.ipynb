{
 "cells": [
  {
   "cell_type": "code",
   "execution_count": 1,
   "metadata": {},
   "outputs": [],
   "source": [
    "import json\n",
    "import spacy\n",
    "from bs4 import BeautifulSoup\n",
    "nlp = spacy.load(\"output/model-best\")"
   ]
  },
  {
   "cell_type": "code",
   "execution_count": 2,
   "metadata": {},
   "outputs": [],
   "source": [
    "def strip_html_tags(text):\n",
    "    soup = BeautifulSoup(text, \"html.parser\")\n",
    "    stripped_text = soup.get_text()\n",
    "    return stripped_text"
   ]
  },
  {
   "cell_type": "code",
   "execution_count": 3,
   "metadata": {},
   "outputs": [
    {
     "name": "stdout",
     "output_type": "stream",
     "text": [
      "\n",
      "100 U.S. 158 (____)\n",
      "Dow\n",
      "v.\n",
      "JOHNSON.\n",
      "Supreme Court of United States.\n",
      "\n",
      "The case was argued by The Attorney-General and Mr. E.B. Smith, Assistant Attorney-General, for the plaintiff in error, and by Mr. Thomas J. Durant for the defendant in error.\n",
      "MR. JUSTICE FIELD delivered the opinion of the court.\n",
      "The defendant in the court below, the plaintiff in error here, Neal Dow, was a brigadier-general in the army of the United States during the late civil war, and in 1862 and 1863 was *159 stationed in \n"
     ]
    }
   ],
   "source": [
    "with open('./texts_for_testing/1880_90030.json', encoding=\"utf-8\") as f:\n",
    "    test_text = json.load(f)\n",
    "opinion_of_text = test_text['html_lawbox']\n",
    "cleaned_text_opinion = strip_html_tags(opinion_of_text)\n",
    "print(cleaned_text_opinion[:500])"
   ]
  },
  {
   "cell_type": "code",
   "execution_count": 4,
   "metadata": {},
   "outputs": [],
   "source": [
    "spacy_doc = nlp(cleaned_text_opinion)"
   ]
  },
  {
   "cell_type": "code",
   "execution_count": 5,
   "metadata": {},
   "outputs": [
    {
     "data": {
      "text/plain": [
       "{'1700': 0.0, '1800': 1.0, '1900': 0.0, '2000': 0.0}"
      ]
     },
     "execution_count": 5,
     "metadata": {},
     "output_type": "execute_result"
    }
   ],
   "source": [
    "spacy_doc.cats"
   ]
  },
  {
   "cell_type": "code",
   "execution_count": 6,
   "metadata": {},
   "outputs": [
    {
     "name": "stdout",
     "output_type": "stream",
     "text": [
      "{'1700': 2.396220373995437e-43, '1800': 2.923387118178614e-29, '1900': 1.0, '2000': 7.380723387276827e-21}\n"
     ]
    },
    {
     "data": {
      "text/plain": [
       "2.396220373995437e-43"
      ]
     },
     "execution_count": 6,
     "metadata": {},
     "output_type": "execute_result"
    }
   ],
   "source": [
    "with open('./texts_for_testing/2022_opinion_1.json', encoding=\"utf-8\") as f:\n",
    "    test_text = json.load(f)\n",
    "opinion_of_text_2 = test_text['plain_text']\n",
    "spacy_doc_1 = nlp(opinion_of_text_2)\n",
    "print(spacy_doc_1.cats)\n",
    "spacy_doc_1.cats['1700']"
   ]
  },
  {
   "cell_type": "code",
   "execution_count": 7,
   "metadata": {},
   "outputs": [
    {
     "name": "stdout",
     "output_type": "stream",
     "text": [
      "{'1700': 3.133987236392244e-10, '1800': 1.0, '1900': 0.0, '2000': 0.0}\n"
     ]
    },
    {
     "data": {
      "text/plain": [
       "1.0"
      ]
     },
     "execution_count": 7,
     "metadata": {},
     "output_type": "execute_result"
    }
   ],
   "source": [
    "with open('./texts_for_testing/1804_84713.json', encoding=\"utf-8\") as f:\n",
    "    test_text = json.load(f)\n",
    "opinion_of_text_3 = test_text['html_with_citations']\n",
    "cleaned_text_opinion = strip_html_tags(opinion_of_text_3)\n",
    "spacy_doc_2 = nlp(cleaned_text_opinion)\n",
    "print(spacy_doc_2.cats)\n",
    "spacy_doc_2.cats['1800']"
   ]
  },
  {
   "cell_type": "code",
   "execution_count": 8,
   "metadata": {},
   "outputs": [
    {
     "data": {
      "text/plain": [
       "{'1700': 0.0, '1800': 0.0, '1900': 1.0, '2000': 0.0}"
      ]
     },
     "execution_count": 8,
     "metadata": {},
     "output_type": "execute_result"
    }
   ],
   "source": [
    "with open('./texts_for_testing/1985_111301.json', encoding=\"utf-8\") as f:\n",
    "    test_text = json.load(f)\n",
    "opinion_of_text_4 = test_text['html_lawbox']\n",
    "cleaned_text_opinion = strip_html_tags(opinion_of_text_4)\n",
    "spacy_doc_3 = nlp(cleaned_text_opinion)\n",
    "spacy_doc_3.cats"
   ]
  },
  {
   "cell_type": "code",
   "execution_count": 9,
   "metadata": {},
   "outputs": [
    {
     "data": {
      "text/plain": [
       "['1764_84587',\n",
       " '1783_84599',\n",
       " '1944_103915',\n",
       " '1880_90030',\n",
       " '1850_86508',\n",
       " '1764_84586',\n",
       " '1985_111301',\n",
       " '2022_opinion_2',\n",
       " '1865_87621',\n",
       " '1902_95542',\n",
       " '1764_2381788',\n",
       " '1920_99495',\n",
       " '1898_94785',\n",
       " '1783_84600',\n",
       " '1963_106601',\n",
       " '2022_opinion_1',\n",
       " '1804_84713']"
      ]
     },
     "execution_count": 9,
     "metadata": {},
     "output_type": "execute_result"
    }
   ],
   "source": [
    "from pathlib import Path\n",
    "folder_location = './texts_for_testing/'\n",
    "paths = list(Path(folder_location).rglob('*.json'))\n",
    "filenames = [k.stem for k in paths]\n",
    "filenames"
   ]
  },
  {
   "cell_type": "code",
   "execution_count": 10,
   "metadata": {},
   "outputs": [
    {
     "data": {
      "text/plain": [
       "{'1700': 0.9460902810096741,\n",
       " '1800': 0.0035104146227240562,\n",
       " '1900': 0.021581759676337242,\n",
       " '2000': 0.028817567974328995}"
      ]
     },
     "execution_count": 10,
     "metadata": {},
     "output_type": "execute_result"
    }
   ],
   "source": [
    "with open('./texts_for_testing/1764_84586.json', encoding=\"utf-8\") as f:\n",
    "    test_text = json.load(f)\n",
    "opinion_of_text = test_text['html_with_citations']\n",
    "cleaned_text_opinion = strip_html_tags(opinion_of_text)\n",
    "spacy_doc_3 = nlp(cleaned_text_opinion)\n",
    "spacy_doc_3.cats"
   ]
  },
  {
   "cell_type": "code",
   "execution_count": 11,
   "metadata": {},
   "outputs": [
    {
     "data": {
      "text/plain": [
       "{'1700': 1.0,\n",
       " '1800': 7.777257948760052e-09,\n",
       " '1900': 2.8018092301806703e-16,\n",
       " '2000': 9.425196398636101e-20}"
      ]
     },
     "execution_count": 11,
     "metadata": {},
     "output_type": "execute_result"
    }
   ],
   "source": [
    "with open('./texts_for_testing/1764_84587.json', encoding=\"utf-8\") as f:\n",
    "    test_text = json.load(f)\n",
    "opinion_of_text = test_text['html_with_citations']\n",
    "cleaned_text_opinion = strip_html_tags(opinion_of_text)\n",
    "spacy_doc_3 = nlp(cleaned_text_opinion)\n",
    "spacy_doc_3.cats"
   ]
  },
  {
   "cell_type": "code",
   "execution_count": 12,
   "metadata": {},
   "outputs": [
    {
     "data": {
      "text/plain": [
       "{'1700': 0.0, '1800': 0.0, '1900': 0.0, '2000': 0.0}"
      ]
     },
     "execution_count": 12,
     "metadata": {},
     "output_type": "execute_result"
    }
   ],
   "source": [
    "with open('./texts_for_testing/1764_2381788.json', encoding=\"utf-8\") as f:\n",
    "    test_text = json.load(f)\n",
    "opinion_of_text = test_text['html_with_citations']\n",
    "cleaned_text_opinion = strip_html_tags(opinion_of_text)\n",
    "spacy_doc_3 = nlp(cleaned_text_opinion)\n",
    "spacy_doc_3.cats"
   ]
  },
  {
   "cell_type": "code",
   "execution_count": 13,
   "metadata": {},
   "outputs": [],
   "source": [
    "names_and_scores = dict()\n",
    "\n",
    "for file in paths:\n",
    "    with open(file, encoding=\"utf-8\") as f:\n",
    "        data = json.load(f)\n",
    "        stem = file.stem\n",
    "    if data['plain_text'] != \"\":\n",
    "        spacy_doc = nlp(data['plain_text'])\n",
    "        names_and_scores[stem] = spacy_doc.cats\n",
    "    elif data['html_with_citations'] != \"\":\n",
    "        cleaned_text_opinion = strip_html_tags(data['html_with_citations'])\n",
    "        spacy_doc = nlp(cleaned_text_opinion)\n",
    "        names_and_scores[stem] = spacy_doc.cats\n",
    "    elif data['html_lawbox'] != \"\":\n",
    "        cleaned_text_opinion = strip_html_tags(data['html_lawbox'])\n",
    "        spacy_doc = nlp(cleaned_text_opinion)\n",
    "        names_and_scores[stem] = spacy_doc.cats"
   ]
  },
  {
   "cell_type": "code",
   "execution_count": 14,
   "metadata": {},
   "outputs": [
    {
     "name": "stdout",
     "output_type": "stream",
     "text": [
      "17\n"
     ]
    }
   ],
   "source": [
    "print(len(names_and_scores))"
   ]
  },
  {
   "cell_type": "code",
   "execution_count": 15,
   "metadata": {},
   "outputs": [
    {
     "name": "stdout",
     "output_type": "stream",
     "text": [
      "{'1764_84587': {'1700': 1.0, '1800': 7.777257948760052e-09, '1900': 2.8018092301806703e-16, '2000': 9.425196398636101e-20}, '1783_84599': {'1700': 0.32349979877471924, '1800': 0.034033384174108505, '1900': 0.16195958852767944, '2000': 0.4805071949958801}, '1944_103915': {'1700': 0.0, '1800': 0.0, '1900': 1.0, '2000': 0.0}, '1880_90030': {'1700': 0.0, '1800': 1.0, '1900': 0.0, '2000': 0.0}, '1850_86508': {'1700': 1.708175368559873e-25, '1800': 1.0, '1900': 0.0, '2000': 0.0}, '1764_84586': {'1700': 0.9460902810096741, '1800': 0.0035104146227240562, '1900': 0.021581759676337242, '2000': 0.028817567974328995}, '1985_111301': {'1700': 0.0, '1800': 0.0, '1900': 1.0, '2000': 0.0}, '2022_opinion_2': {'1700': 5.568387912354698e-38, '1800': 5.690646799485532e-28, '1900': 1.0, '2000': 3.485777328789978e-31}, '1865_87621': {'1700': 2.6655867259250954e-05, '1800': 0.9999731779098511, '1900': 7.38305203640266e-08, '2000': 5.533585308720168e-12}, '1902_95542': {'1700': 3.664196701011874e-18, '1800': 1.0, '1900': 5.649902491268908e-18, '2000': 3.246556751151545e-34}, '1764_2381788': {'1700': 0.384422242641449, '1800': 0.038189876824617386, '1900': 0.2620941698551178, '2000': 0.31529369950294495}, '1920_99495': {'1700': 0.0, '1800': 4.156211399347631e-12, '1900': 1.0, '2000': 6.179726227672443e-43}, '1898_94785': {'1700': 5.021724189773055e-15, '1800': 1.0, '1900': 7.398553538091516e-17, '2000': 1.226735308388623e-24}, '1783_84600': {'1700': 1.0, '1800': 9.028870096017272e-09, '1900': 1.044657360615986e-09, '2000': 5.815799231090324e-11}, '1963_106601': {'1700': 0.0, '1800': 0.0, '1900': 1.0, '2000': 0.0}, '2022_opinion_1': {'1700': 2.396220373995437e-43, '1800': 2.923387118178614e-29, '1900': 1.0, '2000': 7.380723387276827e-21}, '1804_84713': {'1700': 3.133987236392244e-10, '1800': 1.0, '1900': 0.0, '2000': 0.0}}\n"
     ]
    },
    {
     "data": {
      "text/plain": [
       "0.7647058823529411"
      ]
     },
     "execution_count": 15,
     "metadata": {},
     "output_type": "execute_result"
    }
   ],
   "source": [
    "print(names_and_scores)\n",
    "\n",
    "#13 out of 17 classified correctly ...:\n",
    "13/17\n"
   ]
  },
  {
   "cell_type": "code",
   "execution_count": 36,
   "metadata": {},
   "outputs": [
    {
     "name": "stdout",
     "output_type": "stream",
     "text": [
      "Highest Score is:  {'1764_84587': 1.0, '1783_84599': 0.4805071949958801, '1944_103915': 1.0, '1880_90030': 1.0, '1850_86508': 1.0, '1764_84586': 0.9460902810096741, '1985_111301': 1.0, '2022_opinion_2': 1.0, '1865_87621': 0.9999731779098511, '1902_95542': 1.0, '1764_2381788': 0.384422242641449, '1920_99495': 1.0, '1898_94785': 1.0, '1783_84600': 1.0, '1963_106601': 1.0, '2022_opinion_1': 1.0, '1804_84713': 1.0}\n"
     ]
    }
   ],
   "source": [
    "new_out = {}\n",
    "for new_k, new_v in names_and_scores.items():\n",
    "\tcount_new = 0\n",
    "\tfor element in new_v.values():\n",
    "\t\tif element > count_new:\n",
    "\t\t\tcount_new = element\n",
    "\tnew_out[new_k] = count_new\n",
    "\t\n",
    "print(\"Highest Score is: \", new_out)"
   ]
  },
  {
   "cell_type": "code",
   "execution_count": 17,
   "metadata": {},
   "outputs": [
    {
     "name": "stdout",
     "output_type": "stream",
     "text": [
      "Scores: {'1764_84587': 1.0, '1783_84599': 0.4805071949958801, '1944_103915': 1.0, '1880_90030': 1.0, '1850_86508': 1.0, '1764_84586': 0.9460902810096741, '1985_111301': 1.0, '2022_opinion_2': 1.0, '1865_87621': 0.9999731779098511, '1902_95542': 1.0, '1764_2381788': 0.384422242641449, '1920_99495': 1.0, '1898_94785': 1.0, '1783_84600': 1.0, '1963_106601': 1.0, '2022_opinion_1': 1.0, '1804_84713': 1.0}\n"
     ]
    }
   ],
   "source": [
    "res = {key: max(val.values()) for key, val in names_and_scores.items()}\n",
    "      \n",
    "# printing result \n",
    "print(f\"Scores: \" + str(res)) "
   ]
  },
  {
   "cell_type": "code",
   "execution_count": 45,
   "metadata": {},
   "outputs": [
    {
     "ename": "TypeError",
     "evalue": "'>' not supported between instances of 'dict' and 'dict'",
     "output_type": "error",
     "traceback": [
      "\u001b[0;31m---------------------------------------------------------------------------\u001b[0m",
      "\u001b[0;31mTypeError\u001b[0m                                 Traceback (most recent call last)",
      "\u001b[1;32m/Users/spicy.kev/Documents/github/spacy_text_cat/model_evaluation.ipynb Cell 18\u001b[0m in \u001b[0;36m<cell line: 1>\u001b[0;34m()\u001b[0m\n\u001b[0;32m----> <a href='vscode-notebook-cell:/Users/spicy.kev/Documents/github/spacy_text_cat/model_evaluation.ipynb#X23sZmlsZQ%3D%3D?line=0'>1</a>\u001b[0m itemMaxValue \u001b[39m=\u001b[39m \u001b[39mmax\u001b[39;49m(names_and_scores\u001b[39m.\u001b[39;49mitems(), key\u001b[39m=\u001b[39;49m\u001b[39mlambda\u001b[39;49;00m x : x[\u001b[39m1\u001b[39;49m])\n",
      "\u001b[0;31mTypeError\u001b[0m: '>' not supported between instances of 'dict' and 'dict'"
     ]
    }
   ],
   "source": [
    "itemMaxValue = max(names_and_scores.items(), key=lambda x : x[1])"
   ]
  },
  {
   "cell_type": "code",
   "execution_count": null,
   "metadata": {},
   "outputs": [],
   "source": [
    "{'1764_84587': {'1700': 1.0, '1800': 7.777257948760052e-09, '1900': 2.8018092301806703e-16, '2000': 9.425196398636101e-20}"
   ]
  }
 ],
 "metadata": {
  "kernelspec": {
   "display_name": "Python 3.10.6 ('spacytextcat')",
   "language": "python",
   "name": "python3"
  },
  "language_info": {
   "codemirror_mode": {
    "name": "ipython",
    "version": 3
   },
   "file_extension": ".py",
   "mimetype": "text/x-python",
   "name": "python",
   "nbconvert_exporter": "python",
   "pygments_lexer": "ipython3",
   "version": "3.10.6"
  },
  "orig_nbformat": 4,
  "vscode": {
   "interpreter": {
    "hash": "0fda1a5f5dfb39adea8a893d4ef1b6463d3afdb71d73e8a99cf627d4b3f3da3a"
   }
  }
 },
 "nbformat": 4,
 "nbformat_minor": 2
}
