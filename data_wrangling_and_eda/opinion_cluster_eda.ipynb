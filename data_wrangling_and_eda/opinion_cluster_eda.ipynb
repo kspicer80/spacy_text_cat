{
 "cells": [
  {
   "cell_type": "code",
   "execution_count": 2,
   "metadata": {},
   "outputs": [],
   "source": [
    "import pandas as pd"
   ]
  },
  {
   "cell_type": "code",
   "execution_count": 3,
   "metadata": {},
   "outputs": [
    {
     "name": "stderr",
     "output_type": "stream",
     "text": [
      "/var/folders/jt/_w07f41j0zz__hb4jz9bz0vh0000gp/T/ipykernel_36177/1262577748.py:1: DtypeWarning: Columns (10,17,18,19,20,21,22,23,24,25,26,29) have mixed types. Specify dtype option on import or set low_memory=False.\n",
      "  df = pd.read_csv('opinion-clusters-2022-08-31.csv')\n"
     ]
    }
   ],
   "source": [
    "df = pd.read_csv('opinion-clusters-2022-08-31.csv')"
   ]
  },
  {
   "cell_type": "code",
   "execution_count": 4,
   "metadata": {},
   "outputs": [
    {
     "name": "stdout",
     "output_type": "stream",
     "text": [
      "        id                   date_created                  date_modified  \\\n",
      "0      435  2014-12-31 18:35:09.282924+00  2021-04-18 04:51:20.339138+00   \n",
      "1  4691599  2020-01-02 01:10:32.950927+00  2020-01-02 01:10:33.271191+00   \n",
      "2  4739558  2020-03-26 22:00:19.977429+00  2020-03-26 22:00:20.162381+00   \n",
      "3  4691600  2020-01-02 01:10:33.374056+00   2020-01-02 01:10:33.46469+00   \n",
      "4  2243533  2015-06-23 20:32:48.697722+00  2018-07-24 15:48:20.858917+00   \n",
      "\n",
      "       judges  date_filed date_filed_is_approximate  \\\n",
      "0         NaN  2010-03-22                         f   \n",
      "1         NaN  2019-12-31                         f   \n",
      "2  Per Curiam  2020-03-26                         f   \n",
      "3         NaN  2019-12-31                         f   \n",
      "4   Sharpnack  1993-02-25                         f   \n",
      "\n",
      "                                    slug case_name_short  \\\n",
      "0                 united-states-v-murphy             NaN   \n",
      "1  in-the-interest-of-kc-and-kc-children             NaN   \n",
      "2         united-states-v-ronald-wiggins             NaN   \n",
      "3  in-the-interest-of-kc-and-kc-children             NaN   \n",
      "4                couch-v-hamilton-county           Couch   \n",
      "\n",
      "                                    case_name case_name_full  ... disposition  \\\n",
      "0                     United States v. Murphy            NaN  ...         NaN   \n",
      "1  in the Interest of K.C. and K.C., Children            NaN  ...         NaN   \n",
      "2             United States v. Ronald Wiggins            NaN  ...         NaN   \n",
      "3  in the Interest of K.C. and K.C., Children            NaN  ...         NaN   \n",
      "4                    Couch v. Hamilton County            NaN  ...         NaN   \n",
      "\n",
      "   history  other_dates  cross_reference correction  citation_count  \\\n",
      "0      NaN          NaN              NaN        NaN               0   \n",
      "1      NaN          NaN              NaN        NaN               0   \n",
      "2      NaN          NaN              NaN        NaN               0   \n",
      "3      NaN          NaN              NaN        NaN               0   \n",
      "4      NaN          NaN              NaN        NaN              15   \n",
      "\n",
      "  precedential_status date_blocked blocked docket_id  \n",
      "0         Unpublished   2021-04-18       t    265373  \n",
      "1           Published          NaN       f  16645840  \n",
      "2         Unpublished          NaN       f  17015923  \n",
      "3           Published          NaN       f  16645841  \n",
      "4           Published          NaN       f   2093587  \n",
      "\n",
      "[5 rows x 32 columns]\n",
      "Index(['id', 'date_created', 'date_modified', 'judges', 'date_filed',\n",
      "       'date_filed_is_approximate', 'slug', 'case_name_short', 'case_name',\n",
      "       'case_name_full', 'scdb_id', 'scdb_decision_direction',\n",
      "       'scdb_votes_majority', 'scdb_votes_minority', 'source',\n",
      "       'procedural_history', 'attorneys', 'nature_of_suit', 'posture',\n",
      "       'syllabus', 'headnotes', 'summary', 'disposition', 'history',\n",
      "       'other_dates', 'cross_reference', 'correction', 'citation_count',\n",
      "       'precedential_status', 'date_blocked', 'blocked', 'docket_id'],\n",
      "      dtype='object')\n",
      "1658-07-01\n"
     ]
    }
   ],
   "source": [
    "print(df.head())\n",
    "print(df.columns)\n",
    "print(df['date_filed'].min())\n"
   ]
  },
  {
   "cell_type": "code",
   "execution_count": 12,
   "metadata": {},
   "outputs": [],
   "source": [
    "earliest_date = df = df[df['date_filed'].str.contains('1888-12-07')]"
   ]
  },
  {
   "cell_type": "code",
   "execution_count": 13,
   "metadata": {},
   "outputs": [
    {
     "name": "stdout",
     "output_type": "stream",
     "text": [
      "        id                   date_created                  date_modified  \\\n",
      "613  92560  2014-12-21 09:30:55.232615+00  2016-08-05 21:09:24.552321+00   \n",
      "\n",
      "    judges  date_filed date_filed_is_approximate  \\\n",
      "613    NaN  1888-12-07                         f   \n",
      "\n",
      "                                       slug case_name_short  \\\n",
      "613  union-tubing-co-v-patterson-co-limited             NaN   \n",
      "\n",
      "                                      case_name case_name_full  ...  \\\n",
      "613  Union Tubing Co. v. Patterson Co., Limited            NaN  ...   \n",
      "\n",
      "    disposition  history  other_dates  cross_reference correction  \\\n",
      "613         NaN      NaN          NaN              NaN        NaN   \n",
      "\n",
      "     citation_count precedential_status date_blocked blocked docket_id  \n",
      "613               0           Published          NaN       f   1961293  \n",
      "\n",
      "[1 rows x 32 columns]\n"
     ]
    }
   ],
   "source": [
    "print(earliest_date)"
   ]
  },
  {
   "cell_type": "code",
   "execution_count": 15,
   "metadata": {},
   "outputs": [
    {
     "data": {
      "text/html": [
       "<div>\n",
       "<style scoped>\n",
       "    .dataframe tbody tr th:only-of-type {\n",
       "        vertical-align: middle;\n",
       "    }\n",
       "\n",
       "    .dataframe tbody tr th {\n",
       "        vertical-align: top;\n",
       "    }\n",
       "\n",
       "    .dataframe thead th {\n",
       "        text-align: right;\n",
       "    }\n",
       "</style>\n",
       "<table border=\"1\" class=\"dataframe\">\n",
       "  <thead>\n",
       "    <tr style=\"text-align: right;\">\n",
       "      <th></th>\n",
       "      <th>id</th>\n",
       "      <th>date_created</th>\n",
       "      <th>date_modified</th>\n",
       "      <th>judges</th>\n",
       "      <th>date_filed</th>\n",
       "      <th>date_filed_is_approximate</th>\n",
       "      <th>slug</th>\n",
       "      <th>case_name_short</th>\n",
       "      <th>case_name</th>\n",
       "      <th>case_name_full</th>\n",
       "      <th>...</th>\n",
       "      <th>disposition</th>\n",
       "      <th>history</th>\n",
       "      <th>other_dates</th>\n",
       "      <th>cross_reference</th>\n",
       "      <th>correction</th>\n",
       "      <th>citation_count</th>\n",
       "      <th>precedential_status</th>\n",
       "      <th>date_blocked</th>\n",
       "      <th>blocked</th>\n",
       "      <th>docket_id</th>\n",
       "    </tr>\n",
       "  </thead>\n",
       "  <tbody>\n",
       "    <tr>\n",
       "      <th>6310584</th>\n",
       "      <td>6784388</td>\n",
       "      <td>2022-07-20 21:07:46.297445+00</td>\n",
       "      <td>2022-07-20 21:07:46.297463+00</td>\n",
       "      <td>Esq, Excellency, Fendall, Governor</td>\n",
       "      <td>1658-07-01</td>\n",
       "      <td>t</td>\n",
       "      <td>stone-v-boreman</td>\n",
       "      <td>Boreman</td>\n",
       "      <td>Stone v. Boreman</td>\n",
       "      <td>William Stone against William Boreman</td>\n",
       "      <td>...</td>\n",
       "      <td>NaN</td>\n",
       "      <td>NaN</td>\n",
       "      <td>on Tuesday, August 2, 1659.</td>\n",
       "      <td>NaN</td>\n",
       "      <td>NaN</td>\n",
       "      <td>0</td>\n",
       "      <td>Published</td>\n",
       "      <td>NaN</td>\n",
       "      <td>f</td>\n",
       "      <td>63765694</td>\n",
       "    </tr>\n",
       "  </tbody>\n",
       "</table>\n",
       "<p>1 rows × 32 columns</p>\n",
       "</div>"
      ],
      "text/plain": [
       "              id                   date_created  \\\n",
       "6310584  6784388  2022-07-20 21:07:46.297445+00   \n",
       "\n",
       "                         date_modified                              judges  \\\n",
       "6310584  2022-07-20 21:07:46.297463+00  Esq, Excellency, Fendall, Governor   \n",
       "\n",
       "         date_filed date_filed_is_approximate             slug  \\\n",
       "6310584  1658-07-01                         t  stone-v-boreman   \n",
       "\n",
       "        case_name_short         case_name  \\\n",
       "6310584         Boreman  Stone v. Boreman   \n",
       "\n",
       "                                case_name_full  ... disposition  history  \\\n",
       "6310584  William Stone against William Boreman  ...         NaN      NaN   \n",
       "\n",
       "                         other_dates  cross_reference correction  \\\n",
       "6310584  on Tuesday, August 2, 1659.              NaN        NaN   \n",
       "\n",
       "         citation_count precedential_status date_blocked blocked docket_id  \n",
       "6310584               0           Published          NaN       f  63765694  \n",
       "\n",
       "[1 rows x 32 columns]"
      ]
     },
     "execution_count": 15,
     "metadata": {},
     "output_type": "execute_result"
    }
   ],
   "source": [
    "df['date_filed'].min()\n",
    "df[df.date_filed == df.date_filed.min()]"
   ]
  },
  {
   "cell_type": "code",
   "execution_count": 10,
   "metadata": {},
   "outputs": [
    {
     "ename": "OutOfBoundsDatetime",
     "evalue": "Out of bounds nanosecond timestamp: 1665-01-02 00:01:00",
     "output_type": "error",
     "traceback": [
      "\u001b[0;31m---------------------------------------------------------------------------\u001b[0m",
      "\u001b[0;31mTypeError\u001b[0m                                 Traceback (most recent call last)",
      "File \u001b[0;32m~/opt/anaconda3/lib/python3.9/site-packages/pandas/core/tools/datetimes.py:510\u001b[0m, in \u001b[0;36m_to_datetime_with_format\u001b[0;34m(arg, orig_arg, name, tz, fmt, exact, errors, infer_datetime_format)\u001b[0m\n\u001b[1;32m    509\u001b[0m \u001b[39mtry\u001b[39;00m:\n\u001b[0;32m--> 510\u001b[0m     values, tz \u001b[39m=\u001b[39m conversion\u001b[39m.\u001b[39;49mdatetime_to_datetime64(arg)\n\u001b[1;32m    511\u001b[0m     dta \u001b[39m=\u001b[39m DatetimeArray(values, dtype\u001b[39m=\u001b[39mtz_to_dtype(tz))\n",
      "File \u001b[0;32m~/opt/anaconda3/lib/python3.9/site-packages/pandas/_libs/tslibs/conversion.pyx:360\u001b[0m, in \u001b[0;36mpandas._libs.tslibs.conversion.datetime_to_datetime64\u001b[0;34m()\u001b[0m\n",
      "\u001b[0;31mTypeError\u001b[0m: Unrecognized value type: <class 'str'>",
      "\nDuring handling of the above exception, another exception occurred:\n",
      "\u001b[0;31mOutOfBoundsDatetime\u001b[0m                       Traceback (most recent call last)",
      "\u001b[1;32m/Users/kspicer/Documents/GitHub/bulk_scotus/opinion_cluster_eda.ipynb Cell 6\u001b[0m in \u001b[0;36m<cell line: 1>\u001b[0;34m()\u001b[0m\n\u001b[0;32m----> <a href='vscode-notebook-cell:/Users/kspicer/Documents/GitHub/bulk_scotus/opinion_cluster_eda.ipynb#W5sZmlsZQ%3D%3D?line=0'>1</a>\u001b[0m df[\u001b[39m'\u001b[39m\u001b[39mdate_filed\u001b[39m\u001b[39m'\u001b[39m]\u001b[39m=\u001b[39m pd\u001b[39m.\u001b[39;49mto_datetime(df[\u001b[39m'\u001b[39;49m\u001b[39mdate_filed\u001b[39;49m\u001b[39m'\u001b[39;49m], \u001b[39mformat\u001b[39;49m\u001b[39m=\u001b[39;49m\u001b[39m'\u001b[39;49m\u001b[39m%\u001b[39;49m\u001b[39mY-\u001b[39;49m\u001b[39m%\u001b[39;49m\u001b[39mM-\u001b[39;49m\u001b[39m%d\u001b[39;49;00m\u001b[39m'\u001b[39;49m)\n",
      "File \u001b[0;32m~/opt/anaconda3/lib/python3.9/site-packages/pandas/core/tools/datetimes.py:1047\u001b[0m, in \u001b[0;36mto_datetime\u001b[0;34m(arg, errors, dayfirst, yearfirst, utc, format, exact, unit, infer_datetime_format, origin, cache)\u001b[0m\n\u001b[1;32m   1045\u001b[0m             result \u001b[39m=\u001b[39m arg\u001b[39m.\u001b[39mtz_localize(tz)\n\u001b[1;32m   1046\u001b[0m \u001b[39melif\u001b[39;00m \u001b[39misinstance\u001b[39m(arg, ABCSeries):\n\u001b[0;32m-> 1047\u001b[0m     cache_array \u001b[39m=\u001b[39m _maybe_cache(arg, \u001b[39mformat\u001b[39;49m, cache, convert_listlike)\n\u001b[1;32m   1048\u001b[0m     \u001b[39mif\u001b[39;00m \u001b[39mnot\u001b[39;00m cache_array\u001b[39m.\u001b[39mempty:\n\u001b[1;32m   1049\u001b[0m         result \u001b[39m=\u001b[39m arg\u001b[39m.\u001b[39mmap(cache_array)\n",
      "File \u001b[0;32m~/opt/anaconda3/lib/python3.9/site-packages/pandas/core/tools/datetimes.py:197\u001b[0m, in \u001b[0;36m_maybe_cache\u001b[0;34m(arg, format, cache, convert_listlike)\u001b[0m\n\u001b[1;32m    195\u001b[0m unique_dates \u001b[39m=\u001b[39m unique(arg)\n\u001b[1;32m    196\u001b[0m \u001b[39mif\u001b[39;00m \u001b[39mlen\u001b[39m(unique_dates) \u001b[39m<\u001b[39m \u001b[39mlen\u001b[39m(arg):\n\u001b[0;32m--> 197\u001b[0m     cache_dates \u001b[39m=\u001b[39m convert_listlike(unique_dates, \u001b[39mformat\u001b[39;49m)\n\u001b[1;32m    198\u001b[0m     cache_array \u001b[39m=\u001b[39m Series(cache_dates, index\u001b[39m=\u001b[39munique_dates)\n\u001b[1;32m    199\u001b[0m     \u001b[39m# GH#39882 and GH#35888 in case of None and NaT we get duplicates\u001b[39;00m\n",
      "File \u001b[0;32m~/opt/anaconda3/lib/python3.9/site-packages/pandas/core/tools/datetimes.py:394\u001b[0m, in \u001b[0;36m_convert_listlike_datetimes\u001b[0;34m(arg, format, name, tz, unit, errors, infer_datetime_format, dayfirst, yearfirst, exact)\u001b[0m\n\u001b[1;32m    391\u001b[0m         \u001b[39mformat\u001b[39m \u001b[39m=\u001b[39m \u001b[39mNone\u001b[39;00m\n\u001b[1;32m    393\u001b[0m \u001b[39mif\u001b[39;00m \u001b[39mformat\u001b[39m \u001b[39mis\u001b[39;00m \u001b[39mnot\u001b[39;00m \u001b[39mNone\u001b[39;00m:\n\u001b[0;32m--> 394\u001b[0m     res \u001b[39m=\u001b[39m _to_datetime_with_format(\n\u001b[1;32m    395\u001b[0m         arg, orig_arg, name, tz, \u001b[39mformat\u001b[39;49m, exact, errors, infer_datetime_format\n\u001b[1;32m    396\u001b[0m     )\n\u001b[1;32m    397\u001b[0m     \u001b[39mif\u001b[39;00m res \u001b[39mis\u001b[39;00m \u001b[39mnot\u001b[39;00m \u001b[39mNone\u001b[39;00m:\n\u001b[1;32m    398\u001b[0m         \u001b[39mreturn\u001b[39;00m res\n",
      "File \u001b[0;32m~/opt/anaconda3/lib/python3.9/site-packages/pandas/core/tools/datetimes.py:514\u001b[0m, in \u001b[0;36m_to_datetime_with_format\u001b[0;34m(arg, orig_arg, name, tz, fmt, exact, errors, infer_datetime_format)\u001b[0m\n\u001b[1;32m    512\u001b[0m     \u001b[39mreturn\u001b[39;00m DatetimeIndex\u001b[39m.\u001b[39m_simple_new(dta, name\u001b[39m=\u001b[39mname)\n\u001b[1;32m    513\u001b[0m \u001b[39mexcept\u001b[39;00m (\u001b[39mValueError\u001b[39;00m, \u001b[39mTypeError\u001b[39;00m):\n\u001b[0;32m--> 514\u001b[0m     \u001b[39mraise\u001b[39;00m err\n",
      "File \u001b[0;32m~/opt/anaconda3/lib/python3.9/site-packages/pandas/core/tools/datetimes.py:501\u001b[0m, in \u001b[0;36m_to_datetime_with_format\u001b[0;34m(arg, orig_arg, name, tz, fmt, exact, errors, infer_datetime_format)\u001b[0m\n\u001b[1;32m    498\u001b[0m             \u001b[39mreturn\u001b[39;00m _box_as_indexlike(result, utc\u001b[39m=\u001b[39mutc, name\u001b[39m=\u001b[39mname)\n\u001b[1;32m    500\u001b[0m     \u001b[39m# fallback\u001b[39;00m\n\u001b[0;32m--> 501\u001b[0m     res \u001b[39m=\u001b[39m _array_strptime_with_fallback(\n\u001b[1;32m    502\u001b[0m         arg, name, tz, fmt, exact, errors, infer_datetime_format\n\u001b[1;32m    503\u001b[0m     )\n\u001b[1;32m    504\u001b[0m     \u001b[39mreturn\u001b[39;00m res\n\u001b[1;32m    506\u001b[0m \u001b[39mexcept\u001b[39;00m \u001b[39mValueError\u001b[39;00m \u001b[39mas\u001b[39;00m err:\n\u001b[1;32m    507\u001b[0m     \u001b[39m# Fallback to try to convert datetime objects if timezone-aware\u001b[39;00m\n\u001b[1;32m    508\u001b[0m     \u001b[39m#  datetime objects are found without passing `utc=True`\u001b[39;00m\n",
      "File \u001b[0;32m~/opt/anaconda3/lib/python3.9/site-packages/pandas/core/tools/datetimes.py:437\u001b[0m, in \u001b[0;36m_array_strptime_with_fallback\u001b[0;34m(arg, name, tz, fmt, exact, errors, infer_datetime_format)\u001b[0m\n\u001b[1;32m    434\u001b[0m utc \u001b[39m=\u001b[39m tz \u001b[39m==\u001b[39m \u001b[39m\"\u001b[39m\u001b[39mutc\u001b[39m\u001b[39m\"\u001b[39m\n\u001b[1;32m    436\u001b[0m \u001b[39mtry\u001b[39;00m:\n\u001b[0;32m--> 437\u001b[0m     result, timezones \u001b[39m=\u001b[39m array_strptime(arg, fmt, exact\u001b[39m=\u001b[39;49mexact, errors\u001b[39m=\u001b[39;49merrors)\n\u001b[1;32m    438\u001b[0m     \u001b[39mif\u001b[39;00m \u001b[39m\"\u001b[39m\u001b[39m%\u001b[39m\u001b[39mZ\u001b[39m\u001b[39m\"\u001b[39m \u001b[39min\u001b[39;00m fmt \u001b[39mor\u001b[39;00m \u001b[39m\"\u001b[39m\u001b[39m%\u001b[39m\u001b[39mz\u001b[39m\u001b[39m\"\u001b[39m \u001b[39min\u001b[39;00m fmt:\n\u001b[1;32m    439\u001b[0m         \u001b[39mreturn\u001b[39;00m _return_parsed_timezone_results(result, timezones, tz, name)\n",
      "File \u001b[0;32m~/opt/anaconda3/lib/python3.9/site-packages/pandas/_libs/tslibs/strptime.pyx:344\u001b[0m, in \u001b[0;36mpandas._libs.tslibs.strptime.array_strptime\u001b[0;34m()\u001b[0m\n",
      "File \u001b[0;32m~/opt/anaconda3/lib/python3.9/site-packages/pandas/_libs/tslibs/strptime.pyx:339\u001b[0m, in \u001b[0;36mpandas._libs.tslibs.strptime.array_strptime\u001b[0;34m()\u001b[0m\n",
      "File \u001b[0;32m~/opt/anaconda3/lib/python3.9/site-packages/pandas/_libs/tslibs/np_datetime.pyx:120\u001b[0m, in \u001b[0;36mpandas._libs.tslibs.np_datetime.check_dts_bounds\u001b[0;34m()\u001b[0m\n",
      "\u001b[0;31mOutOfBoundsDatetime\u001b[0m: Out of bounds nanosecond timestamp: 1665-01-02 00:01:00"
     ]
    }
   ],
   "source": [
    "df['date_filed']= pd.to_datetime(df['date_filed'], format='%Y-%M-%d')"
   ]
  },
  {
   "cell_type": "code",
   "execution_count": null,
   "metadata": {},
   "outputs": [],
   "source": []
  }
 ],
 "metadata": {
  "kernelspec": {
   "display_name": "Python 3.9.12 ('base')",
   "language": "python",
   "name": "python3"
  },
  "language_info": {
   "codemirror_mode": {
    "name": "ipython",
    "version": 3
   },
   "file_extension": ".py",
   "mimetype": "text/x-python",
   "name": "python",
   "nbconvert_exporter": "python",
   "pygments_lexer": "ipython3",
   "version": "3.9.12"
  },
  "orig_nbformat": 4,
  "vscode": {
   "interpreter": {
    "hash": "e7b3036a75e82195f25039e0a24313af0afb91902907fcbdd7fd0983e19573b0"
   }
  }
 },
 "nbformat": 4,
 "nbformat_minor": 2
}
