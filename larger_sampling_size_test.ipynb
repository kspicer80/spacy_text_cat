{
 "cells": [
  {
   "cell_type": "code",
   "execution_count": 3,
   "metadata": {},
   "outputs": [],
   "source": [
    "import pandas as pd\n",
    "from typing import Set, List, Tuple\n",
    "import spacy\n",
    "from spacy.tokens import DocBin\n",
    "nlp = spacy.load('en_core_web_lg')\n",
    "from sklearn.model_selection import train_test_split\n",
    "from tqdm import tqdm"
   ]
  },
  {
   "cell_type": "code",
   "execution_count": 4,
   "metadata": {},
   "outputs": [
    {
     "name": "stdout",
     "output_type": "stream",
     "text": [
      "                                        cleaned_html  label\n",
      "0                                                      1700\n",
      "1  1 U.S. 20 1 Dall. 20 1 L.Ed. 19 ANONYMOUS. No....   1700\n",
      "2  1 U.S. 18 1 Dall. 18 1 L.Ed. 18 The Lessee of ...   1700\n",
      "3  1 U.S. 194 1 Dall. 194 1 L.Ed. 96 Gerardv.La C...   1700\n",
      "4  1 U.S. 210 1 Dall. 210 1 L.Ed. 104 Pollardv.Sh...   1700\n"
     ]
    }
   ],
   "source": [
    "df = pd.read_json('training_json_file.json', orient='records', encoding='utf-8')\n",
    "print(df.head())\n",
    "df['text'] = df['cleaned_html'].replace(r'\\n',' ', regex=True)"
   ]
  },
  {
   "cell_type": "code",
   "execution_count": 8,
   "metadata": {},
   "outputs": [],
   "source": [
    "df_1700 = df.loc[df['label'] == 1700]\n",
    "df_1800s = df.loc[df['label'] == 1800]\n",
    "df_1900s = df.loc[df['label'] == 1900]\n",
    "df_2000s = df.loc[df['label'] == 2000]"
   ]
  },
  {
   "cell_type": "code",
   "execution_count": null,
   "metadata": {},
   "outputs": [],
   "source": [
    "df_1800s_sampled = df_1800s.sample(1000)\n",
    "df_1900s_sampled = df_1900s.sample(1000)\n",
    "df_2000s_sampled = df_2000s.sample(1000)"
   ]
  },
  {
   "cell_type": "code",
   "execution_count": null,
   "metadata": {},
   "outputs": [],
   "source": []
  }
 ],
 "metadata": {
  "kernelspec": {
   "display_name": "Python 3.9.12 ('base')",
   "language": "python",
   "name": "python3"
  },
  "language_info": {
   "codemirror_mode": {
    "name": "ipython",
    "version": 3
   },
   "file_extension": ".py",
   "mimetype": "text/x-python",
   "name": "python",
   "nbconvert_exporter": "python",
   "pygments_lexer": "ipython3",
   "version": "3.9.12"
  },
  "orig_nbformat": 4,
  "vscode": {
   "interpreter": {
    "hash": "19e56c70b3071a7c9e5271d6c05d63446be4cb37f733ae995dda36f1f67e797e"
   }
  }
 },
 "nbformat": 4,
 "nbformat_minor": 2
}
